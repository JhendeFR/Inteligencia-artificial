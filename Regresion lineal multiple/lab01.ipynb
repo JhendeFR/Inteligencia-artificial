{
 "cells": [
  {
   "cell_type": "markdown",
   "metadata": {},
   "source": [
    "Regresion lineal multiple"
   ]
  },
  {
   "cell_type": "markdown",
   "metadata": {},
   "source": [
    "Importar las librerias necesarias"
   ]
  },
  {
   "cell_type": "code",
   "execution_count": 2,
   "metadata": {},
   "outputs": [],
   "source": [
    "# utilizado para manejos de directorios y rutas\n",
    "import os\n",
    "\n",
    "# Computacion vectorial y cientifica para python\n",
    "import numpy as np\n",
    "\n",
    "#Importacion de pandas para cargar el DataSet\n",
    "import pandas as pd\n",
    "\n",
    "# Librerias para graficación (trazado de gráficos)\n",
    "from matplotlib import pyplot\n",
    "from mpl_toolkits.mplot3d import Axes3D  # Necesario para graficar superficies 3D\n",
    "\n",
    "# llama a matplotlib a embeber graficas dentro de los cuadernillos\n",
    "%matplotlib inline"
   ]
  },
  {
   "cell_type": "markdown",
   "metadata": {},
   "source": [
    "Importar y cargar el DataSet"
   ]
  },
  {
   "cell_type": "code",
   "execution_count": 3,
   "metadata": {},
   "outputs": [],
   "source": [
    "#importamos el dataset\n",
    "FileDs = r'C:\\Users\\jhean\\OneDrive\\Documentos\\Tareas\\Inteligencia artificial\\DataSets\\workout_fitness_tracker_data.csv'\n",
    "# Cargamos el dataset\n",
    "data = pd.read_csv(FileDs, delimiter=',')\n",
    "data[\"Workout Intensity\"] = data[\"Workout Intensity\"].map({\"low\": 1, \"medium\": 2, \"high\": 3})#Convertimos los datos de Workout Intensity a valores numericos\n",
    "X = data.drop(columns=[\"User ID\", \"Calories Burned\", \"Gender\", \"Workout Type\", \"Mood Before Workout\", \"Mood After Workout\"]).values  #Filtrado de columnas no relevantes para inferir en y.\n",
    "y = data[\"Calories Burned\"].values  # Variable a inferir en este caso las calorias quemadas\n",
    "m = y.size  # m = numero de ejemplos de entrenamiento"
   ]
  },
  {
   "cell_type": "markdown",
   "metadata": {},
   "source": [
    "Verificacion de carga de datos"
   ]
  },
  {
   "cell_type": "code",
   "execution_count": null,
   "metadata": {},
   "outputs": [],
   "source": [
    "print(data)"
   ]
  },
  {
   "cell_type": "code",
   "execution_count": null,
   "metadata": {},
   "outputs": [],
   "source": [
    "print(X)"
   ]
  },
  {
   "cell_type": "code",
   "execution_count": null,
   "metadata": {},
   "outputs": [],
   "source": [
    "print(y)"
   ]
  },
  {
   "cell_type": "markdown",
   "metadata": {},
   "source": [
    "Generacion de graficas"
   ]
  },
  {
   "cell_type": "code",
   "execution_count": null,
   "metadata": {},
   "outputs": [],
   "source": [
    "#Importamos lo necesario\n",
    "import matplotlib.pyplot as plt\n",
    "import seaborn as sns\n",
    "#Visualizamos la distribución de las calorias quemadas\n",
    "plt.figure(figsize=(8,6))\n",
    "sns.histplot(y, bins=30, kde=True, color='skyblue')\n",
    "plt.title('Distribución de Calorías Quemadas')\n",
    "plt.xlabel('Calorías Quemadas')\n",
    "plt.ylabel('Frecuencia')\n",
    "plt.show()\n"
   ]
  }
 ],
 "metadata": {
  "kernelspec": {
   "display_name": "Python 3",
   "language": "python",
   "name": "python3"
  },
  "language_info": {
   "codemirror_mode": {
    "name": "ipython",
    "version": 3
   },
   "file_extension": ".py",
   "mimetype": "text/x-python",
   "name": "python",
   "nbconvert_exporter": "python",
   "pygments_lexer": "ipython3",
   "version": "3.13.1"
  }
 },
 "nbformat": 4,
 "nbformat_minor": 2
}
